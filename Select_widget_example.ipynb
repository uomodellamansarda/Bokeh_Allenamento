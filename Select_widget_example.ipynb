import pandas as pd
dct={'Date' : ["2018-01-07", "2018-01-12", "2018-01-13", "2018-01-14", "2018-01-20", "2018-01-24"],'Attività' : ['A','B','A','B','A','B'],'Ore Dedicate' : [1, 2, 5, 3, 7, 1]}
df=pd.DataFrame(dct)
df

from bokeh.layouts import column
from bokeh.models import ColumnDataSource, Plot, Select,LinearAxis, Grid
from bokeh.models.glyphs import VBar
from bokeh.plotting import figure,curdoc
from bokeh.io import show,push_notebook, output_notebook,output_file
#Output_notebook() è necessario per visualizzare
#i grafici all'interno del notebook
output_notebook()

df_r=df.copy()
source = ColumnDataSource(data=df_r)

#Creiamo una lista di attività
#Servirà a popolare il menu a tendina
#dal quale potremo selezionare la nostra attività
activity_list=df['Attività'].unique().tolist().copy()
#Selezioniamo una prima attività
activity_selected='A'

def modify_doc(doc):
    df_r=df.copy()
    source = ColumnDataSource(data=df_r)
    
    plot=figure(title='Ore Giornaliere Dedicate')
    plot.vbar(x="index", top="Ore Dedicate",source=source, width=1)
    def update_plot(attr, old, new):
        activity =  select.value
        data = df_r[df_r['Attività'] == activity]
        source.data = ColumnDataSource(data=data).data
    
    
    select = Select(title='Select Activity', value=activity_selected, options=activity_list)
    select.on_change('value', update_plot)

    layout=column(select, plot)
    doc.add_root(layout)
show(modify_doc)
